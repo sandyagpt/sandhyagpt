{
 "cells": [
  {
   "cell_type": "code",
   "execution_count": 1,
   "id": "22a054a9",
   "metadata": {},
   "outputs": [],
   "source": [
    "#LIBRARIES\n",
    "import pandas as pd\n",
    "import numpy as np"
   ]
  },
  {
   "cell_type": "code",
   "execution_count": 2,
   "id": "0617348d",
   "metadata": {},
   "outputs": [],
   "source": [
    "# TO PLOT A GRAPHS\n",
    "import matplotlib.pyplot as plt"
   ]
  },
  {
   "cell_type": "code",
   "execution_count": 3,
   "id": "a4326622",
   "metadata": {},
   "outputs": [],
   "source": [
    "# ADD&REDUCE\n",
    "from operator import add\n",
    "from functools import reduce"
   ]
  },
  {
   "cell_type": "code",
   "execution_count": 4,
   "id": "f420adc0",
   "metadata": {},
   "outputs": [],
   "source": [
    "#MISSING NO\n",
    "import missingno as msno"
   ]
  },
  {
   "cell_type": "code",
   "execution_count": 5,
   "id": "da4092ad",
   "metadata": {},
   "outputs": [],
   "source": [
    "# NORMALIZATION&STANDARDIZATION\n",
    "from sklearn.preprocessing import MinMaxScaler\n",
    "from sklearn.preprocessing import StandardScaler"
   ]
  },
  {
   "cell_type": "code",
   "execution_count": 6,
   "id": "92aa6fc9",
   "metadata": {},
   "outputs": [],
   "source": [
    "# LABEL_ENCODER\n",
    "from sklearn.preprocessing import LabelEncoder"
   ]
  },
  {
   "cell_type": "code",
   "execution_count": 7,
   "id": "3a75fec4",
   "metadata": {},
   "outputs": [],
   "source": [
    "#SIMPLE LINEAR REGRESSION&MULTI LINEAR REGRESSION\n",
    "from sklearn.linear_model import LinearRegression \n",
    "from sklearn import linear_model"
   ]
  },
  {
   "cell_type": "code",
   "execution_count": 8,
   "id": "dd9b3fbb",
   "metadata": {},
   "outputs": [],
   "source": [
    "# SPLITTING THE DATASET\n",
    "from sklearn.model_selection import train_test_split"
   ]
  },
  {
   "cell_type": "code",
   "execution_count": 9,
   "id": "c7bcb201",
   "metadata": {},
   "outputs": [],
   "source": [
    "# TO PRINT RMSE[ROOT MEAN SQUARED ERROR]\n",
    "from sklearn.metrics import mean_squared_error"
   ]
  },
  {
   "cell_type": "code",
   "execution_count": 10,
   "id": "5a6b9f89",
   "metadata": {},
   "outputs": [],
   "source": [
    "# LOGISTIC REGRESSION\n",
    "from sklearn.linear_model import LogisticRegression"
   ]
  },
  {
   "cell_type": "code",
   "execution_count": 11,
   "id": "9bb1676a",
   "metadata": {},
   "outputs": [],
   "source": [
    "# CONFUSION_MATRIX\n",
    "from sklearn.metrics import confusion_matrix"
   ]
  },
  {
   "cell_type": "code",
   "execution_count": 15,
   "id": "2e0586cb",
   "metadata": {},
   "outputs": [],
   "source": [
    "# DECISIONTREE\n",
    "from sklearn.tree import DecisionTreeClassifier\n",
    "from sklearn.tree import export_graphviz\n",
    "import graphviz\n",
    "from sklearn.metrics import classification_report,f1_score"
   ]
  },
  {
   "cell_type": "code",
   "execution_count": 16,
   "id": "78ed8bd3",
   "metadata": {},
   "outputs": [],
   "source": [
    "# K-NEAREST NEIGHBOR\n",
    "from sklearn.neighbors import KNeighborsClassifier"
   ]
  },
  {
   "cell_type": "code",
   "execution_count": 17,
   "id": "eed31485",
   "metadata": {},
   "outputs": [],
   "source": [
    "# SVM[SUPPORT VECTOR MACHINE]\n",
    "import seaborn as sns\n",
    "#SVC[SUPPORT VECTOR CLASSIFIER]\n",
    "from sklearn.svm import SVC"
   ]
  },
  {
   "cell_type": "code",
   "execution_count": 18,
   "id": "0a18d958",
   "metadata": {},
   "outputs": [],
   "source": [
    "#RANDOM FOREST\n",
    "from sklearn.ensemble import RandomForestClassifier\n",
    "from sklearn.metrics import classification_report,f1_score"
   ]
  },
  {
   "cell_type": "code",
   "execution_count": null,
   "id": "a84bbe02",
   "metadata": {},
   "outputs": [],
   "source": [
    "#CNN[CONVOLUTION NEUTRAL NETWORK]\n",
    "import tensorflow as tf\n",
    "from keras.model import sequential\n",
    "from keras.layers import Dense,Activation,Dropout"
   ]
  }
 ],
 "metadata": {
  "kernelspec": {
   "display_name": "Python 3 (ipykernel)",
   "language": "python",
   "name": "python3"
  },
  "language_info": {
   "codemirror_mode": {
    "name": "ipython",
    "version": 3
   },
   "file_extension": ".py",
   "mimetype": "text/x-python",
   "name": "python",
   "nbconvert_exporter": "python",
   "pygments_lexer": "ipython3",
   "version": "3.11.4"
  }
 },
 "nbformat": 4,
 "nbformat_minor": 5
}
