{
 "cells": [
  {
   "cell_type": "code",
   "execution_count": 1,
   "id": "b61766de",
   "metadata": {},
   "outputs": [
    {
     "name": "stdout",
     "output_type": "stream",
     "text": [
      "6\n"
     ]
    }
   ],
   "source": [
    "#lambda function\n",
    "x=lambda a:a+1\n",
    "print(x(5))"
   ]
  },
  {
   "cell_type": "code",
   "execution_count": 2,
   "id": "faf3090f",
   "metadata": {},
   "outputs": [
    {
     "name": "stdout",
     "output_type": "stream",
     "text": [
      "13\n"
     ]
    }
   ],
   "source": [
    "x=lambda a,b,c:a+b+c\n",
    "print(x(5,6,2))"
   ]
  },
  {
   "cell_type": "code",
   "execution_count": 4,
   "id": "73964d13",
   "metadata": {},
   "outputs": [
    {
     "name": "stdout",
     "output_type": "stream",
     "text": [
      "[True, False, False, True, False]\n"
     ]
    }
   ],
   "source": [
    "#map function\n",
    "def starts_with_A(s):\n",
    "    return s[0]==\"A\"\n",
    "fruit=[\"Apple\",\"banana\",\"pear\",\"Apricot\",\"orange\"]\n",
    "map_object=map(starts_with_A,fruit)\n",
    "print(list(map_object))\n"
   ]
  },
  {
   "cell_type": "code",
   "execution_count": 5,
   "id": "728656ab",
   "metadata": {},
   "outputs": [
    {
     "name": "stdout",
     "output_type": "stream",
     "text": [
      "[True, False, False, True, False]\n"
     ]
    }
   ],
   "source": [
    "#using lambda in map function\n",
    "fruit=[\"Apple\",\"banana\",\"pear\",\"Apricot\",\"orange\"]\n",
    "map_object=map(lambda s:s[0]==\"A\",fruit)\n",
    "print(list(map_object))"
   ]
  },
  {
   "cell_type": "code",
   "execution_count": 6,
   "id": "f52ef695",
   "metadata": {},
   "outputs": [
    {
     "name": "stdout",
     "output_type": "stream",
     "text": [
      "['Apple', 'Apricot']\n"
     ]
    }
   ],
   "source": [
    "#Filter function\n",
    "def starts_with_A(s):\n",
    "    return s[0]==\"A\"\n",
    "fruit=[\"Apple\",\"banana\",\"pear\",\"Apricot\",\"orange\"]\n",
    "filter_object=filter(starts_with_A,fruit)\n",
    "print(list(filter_object))"
   ]
  },
  {
   "cell_type": "code",
   "execution_count": 7,
   "id": "06657bb3",
   "metadata": {},
   "outputs": [
    {
     "name": "stdout",
     "output_type": "stream",
     "text": [
      "['Apple', 'Apricot']\n"
     ]
    }
   ],
   "source": [
    "#using lambda in filter function\n",
    "fruit=[\"Apple\",\"banana\",\"pear\",\"Apricot\",\"orange\"]\n",
    "filter_object=filter(lambda s:s[0]==\"A\",fruit)\n",
    "print(list(filter_object))"
   ]
  },
  {
   "cell_type": "code",
   "execution_count": 12,
   "id": "d1c6d850",
   "metadata": {},
   "outputs": [
    {
     "name": "stdout",
     "output_type": "stream",
     "text": [
      "16\n"
     ]
    }
   ],
   "source": [
    "#reduce function\n",
    "from functools import reduce\n",
    "def add(x,y):\n",
    "        return x+y\n",
    "list=[2,4,7,3]\n",
    "print(reduce(add,list))"
   ]
  },
  {
   "cell_type": "code",
   "execution_count": 11,
   "id": "94a24781",
   "metadata": {},
   "outputs": [
    {
     "name": "stdout",
     "output_type": "stream",
     "text": [
      "16\n",
      "with an initial value:26\n"
     ]
    }
   ],
   "source": [
    "#using lambda in reduce function\n",
    "from functools import reduce\n",
    "list=[2,4,7,3]\n",
    "print(reduce(lambda x,y:x+y,list))\n",
    "print(\"with an initial value:\"+str(reduce(lambda x,y:x+y,list,10)))\n"
   ]
  },
  {
   "cell_type": "code",
   "execution_count": null,
   "id": "ed6296cf",
   "metadata": {},
   "outputs": [],
   "source": []
  }
 ],
 "metadata": {
  "kernelspec": {
   "display_name": "Python 3 (ipykernel)",
   "language": "python",
   "name": "python3"
  },
  "language_info": {
   "codemirror_mode": {
    "name": "ipython",
    "version": 3
   },
   "file_extension": ".py",
   "mimetype": "text/x-python",
   "name": "python",
   "nbconvert_exporter": "python",
   "pygments_lexer": "ipython3",
   "version": "3.11.3"
  }
 },
 "nbformat": 4,
 "nbformat_minor": 5
}
