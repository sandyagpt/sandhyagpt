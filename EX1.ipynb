{
 "cells": [
  {
   "cell_type": "code",
   "execution_count": 3,
   "id": "f26d3ec7",
   "metadata": {},
   "outputs": [
    {
     "name": "stdout",
     "output_type": "stream",
     "text": [
      "[1, 2, 3.0, 'text', True, (3+2j)]\n"
     ]
    }
   ],
   "source": [
    "item_list=['Bread','milk','eggs','Butter','cocoa']\n",
    "student_marks=[78,47,96,55,34]\n",
    "hetero_list=[1,2,3.0,'text',True,3+2j]\n",
    "print(hetero_list)"
   ]
  },
  {
   "cell_type": "code",
   "execution_count": null,
   "id": "1f81ec42",
   "metadata": {},
   "outputs": [],
   "source": []
  }
 ],
 "metadata": {
  "kernelspec": {
   "display_name": "Python 3 (ipykernel)",
   "language": "python",
   "name": "python3"
  },
  "language_info": {
   "codemirror_mode": {
    "name": "ipython",
    "version": 3
   },
   "file_extension": ".py",
   "mimetype": "text/x-python",
   "name": "python",
   "nbconvert_exporter": "python",
   "pygments_lexer": "ipython3",
   "version": "3.11.3"
  }
 },
 "nbformat": 4,
 "nbformat_minor": 5
}
