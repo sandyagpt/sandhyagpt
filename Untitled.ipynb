{
 "cells": [
  {
   "cell_type": "code",
   "execution_count": 1,
   "id": "8b967aec",
   "metadata": {},
   "outputs": [
    {
     "name": "stdout",
     "output_type": "stream",
     "text": [
      "  subject  amount\n",
      "0  python    1000\n",
      "1    java    2000\n"
     ]
    }
   ],
   "source": [
    "import pandas as pd\n",
    "from operator import add\n",
    "from functools import reduce\n",
    "codeing={'subject':['python','java'],'amount':[1000,2000]}\n",
    "df=pd.DataFrame(codeing)\n",
    "print(df)"
   ]
  },
  {
   "cell_type": "code",
   "execution_count": 2,
   "id": "87843785",
   "metadata": {},
   "outputs": [
    {
     "name": "stdout",
     "output_type": "stream",
     "text": [
      "  subject  amount\n",
      "0  python    1000\n",
      "1    java    2000\n"
     ]
    }
   ],
   "source": [
    "import pandas as pd\n",
    "codeing={'subject':['python','java'],'amount':[1000,2000]}\n",
    "df=pd.DataFrame(codeing)\n",
    "print(df)\n"
   ]
  },
  {
   "cell_type": "code",
   "execution_count": null,
   "id": "93645079",
   "metadata": {},
   "outputs": [],
   "source": []
  }
 ],
 "metadata": {
  "kernelspec": {
   "display_name": "Python 3 (ipykernel)",
   "language": "python",
   "name": "python3"
  },
  "language_info": {
   "codemirror_mode": {
    "name": "ipython",
    "version": 3
   },
   "file_extension": ".py",
   "mimetype": "text/x-python",
   "name": "python",
   "nbconvert_exporter": "python",
   "pygments_lexer": "ipython3",
   "version": "3.11.4"
  }
 },
 "nbformat": 4,
 "nbformat_minor": 5
}
